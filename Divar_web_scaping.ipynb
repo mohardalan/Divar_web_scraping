{
 "cells": [
  {
   "cell_type": "code",
   "execution_count": 335,
   "id": "9b5894e4",
   "metadata": {},
   "outputs": [],
   "source": [
    "import requests\n",
    "import pandas as pd\n",
    "#!pip install selenium\n",
    "from selenium import webdriver\n",
    "from selenium.webdriver.common.by import By\n",
    "import time\n",
    "import warnings\n",
    "warnings.filterwarnings('ignore')"
   ]
  },
  {
   "cell_type": "code",
   "execution_count": 336,
   "id": "796f324b",
   "metadata": {},
   "outputs": [],
   "source": [
    "# How to get url and last_post_date? follow these steps: \n",
    "# go to divar.ir / find the proper page / use Ctrl+Shift+i (inspect) /\n",
    "# / tab Network / sub_tab Fetch/XHR / Scroll down the page upto a new set of posts appears /\n",
    "# / Click on the new parameters appeared in the inspect / for example here is \"apartment-sell\" /\n",
    "# / then you can find the url in \"Headers\" / find json in \"Payload\" / \n",
    "# / find details of API response including \"last_post_date\" in the \"Preview\""
   ]
  },
  {
   "cell_type": "code",
   "execution_count": 340,
   "id": "45260654",
   "metadata": {},
   "outputs": [
    {
     "data": {
      "text/plain": [
       "240"
      ]
     },
     "execution_count": 340,
     "metadata": {},
     "output_type": "execute_result"
    }
   ],
   "source": [
    "# Api address / should be updated!\n",
    "url= \"https://api.divar.ir/v8/web-search/1/apartment-sell\"\n",
    "\n",
    "# last date of posts / should be updated!\n",
    "last_post_date= 1698081423460550\n",
    "\n",
    "headers={\"Content-Type\": \"application/json\"}\n",
    "\n",
    "list_of_tokens= []\n",
    "\n",
    "# each page includes 24 posts\n",
    "# so, for example to get 240 posts we have to repeat the process 10 times\n",
    "for i in range(10):\n",
    "    \n",
    "    json= {\"page\": 1, \"json_schema\": {\"category\": {\"value\": \"apartment-sell\"}, \"districts\": {\"vacancies\": [\"158\"]},\n",
    "                                      \"sort\": {\"value\": \"sort_date\"}, \"cities\": [\"1\"]},\"last-post-date\": last_post_date}\n",
    "    # Other alternative\n",
    "    #json= {\"page\": 1, \"json_schema\": {\"category\": {\"value\": \"apartment-sell\"}, \"query\": \"سازمان برنامه\",\n",
    "    #                                  \"sort\": {\"value\": \"sort_date\"}, \"cities\": [\"1\"]}, \"last-post-date\": last_post_date}\n",
    "    \n",
    "    \n",
    "    response= requests.post(url, json=json, headers= headers)\n",
    "    data= response.json()\n",
    "    last_post_date= data[\"last_post_date\"]\n",
    "    \n",
    "    for item in data['web_widgets']['post_list']:\n",
    "        if 'action_log' in item and 'server_side_info' in item['action_log'] and 'post_token' in item['action_log']['server_side_info']['info']:\n",
    "            list_of_tokens.append(item['action_log']['server_side_info']['info']['post_token']) \n",
    "\n",
    "len(list_of_tokens)"
   ]
  },
  {
   "cell_type": "code",
   "execution_count": 341,
   "id": "c36b74fc",
   "metadata": {},
   "outputs": [],
   "source": [
    "# defining data frame\n",
    "df= pd.DataFrame(columns= ['title', 'date', 'location', 'area', 'year', 'rooms', 'total_price', 'unit_price', 'story',\n",
    "                           'total_stories', 'elevator', 'parking', 'store'])"
   ]
  },
  {
   "cell_type": "code",
   "execution_count": null,
   "id": "58b97782",
   "metadata": {
    "scrolled": false
   },
   "outputs": [],
   "source": [
    "# getting info based on list of tokens\n",
    "for token in list_of_tokens:\n",
    "    url= 'https://divar.ir/v/-/' + token\n",
    "    print(url)\n",
    "    \n",
    "    # Set up the Selenium WebDriver (you'll need to specify the path to your driver executable)\n",
    "    driver = webdriver.Chrome()\n",
    "    \n",
    "    # Navigate to the URL\n",
    "    driver.get(url)\n",
    "    \n",
    "    # Wait for dynamic content to load (you may need to adjust the wait time)\n",
    "    time.sleep(1)\n",
    "    \n",
    "    test_404 = driver.find_elements(By.CLASS_NAME, \"kt-page-title__title--responsive-sized\")\n",
    "\n",
    "    # Find the elements\n",
    "    if test_404:\n",
    "        elements= driver.find_element(By.CSS_SELECTOR, '.kt-col-5')\n",
    "        elements_list= elements.text.split(sep='\\n')\n",
    "        \n",
    "        title= elements_list[0]\n",
    "        date= elements_list[1].split('،')[0]\n",
    "        location= elements_list[1].split('،')[1][1:]\n",
    "        \n",
    "        if 'متراژ' in elements_list:\n",
    "            index = elements_list.index('متراژ')\n",
    "            area= elements_list[index+1]\n",
    "        else:\n",
    "            area= None\n",
    "    \n",
    "        if 'ساخت' in elements_list:\n",
    "            index = elements_list.index('ساخت')\n",
    "            year= elements_list[index+1]\n",
    "        else:\n",
    "            year= None\n",
    "\n",
    "        if 'اتاق' in elements_list:\n",
    "            index = elements_list.index('اتاق')\n",
    "            rooms= elements_list[index+1]\n",
    "        else:\n",
    "            rooms= None\n",
    "\n",
    "        if 'قیمت کل' in elements_list:\n",
    "            index = elements_list.index('قیمت کل')\n",
    "            total_price= elements_list[index+1].split(' ')[0].replace('٬', '')\n",
    "        else:\n",
    "            total_price= None\n",
    "\n",
    "\n",
    "        if 'قیمت هر متر' in elements_list:\n",
    "            index = elements_list.index('قیمت هر متر')\n",
    "            unit_price= elements_list[index+1].split(' ')[0].replace('٬', '')\n",
    "        else:\n",
    "            unit_price= None\n",
    "\n",
    "\n",
    "        if 'طبقه' in elements_list:\n",
    "            index = elements_list.index('طبقه')\n",
    "            if len(elements_list[index+1].split(' '))>1:\n",
    "                story= elements_list[index+1].split(' ')[0]\n",
    "                total_stories= int(elements_list[index+1].split(' ')[2])\n",
    "            else:\n",
    "                story= elements_list[index+1].split(' ')[0]\n",
    "                total_stories= elements_list[index+1].split(' ')[0]\n",
    "        else:\n",
    "            story= None\n",
    "            total_stories= None\n",
    "\n",
    "\n",
    "        if 'ویژگی\\u200cها و امکانات' in elements_list:\n",
    "            index = elements_list.index('ویژگی\\u200cها و امکانات')\n",
    "            elevator= elements_list[index+1]\n",
    "            parking= elements_list[index+2]\n",
    "            store= elements_list[index+3]\n",
    "        else:\n",
    "            elevator= None\n",
    "            parking= None\n",
    "            store= None\n",
    "\n",
    "\n",
    "        # Close the WebDriver\n",
    "        driver.quit()\n",
    "\n",
    "        # saving data in the data frame\n",
    "        df= df.append({'title': title, 'date':date, 'location':location, 'area':area, 'year':year, 'rooms':rooms,\n",
    "                   'total_price':total_price, 'unit_price':unit_price, 'story':story, 'total_stories':total_stories,\n",
    "                   'elevator':elevator, 'parking':parking, 'store':store}, ignore_index= True)\n",
    "    else:\n",
    "        driver.quit()\n",
    "        \n",
    "# export the data frame\n",
    "df.to_csv('dataframe_1.csv')"
   ]
  },
  {
   "cell_type": "code",
   "execution_count": null,
   "id": "58526dc9",
   "metadata": {},
   "outputs": [],
   "source": [
    "df.head()"
   ]
  },
  {
   "cell_type": "code",
   "execution_count": null,
   "id": "02521424",
   "metadata": {},
   "outputs": [],
   "source": []
  }
 ],
 "metadata": {
  "kernelspec": {
   "display_name": "Python 3 (ipykernel)",
   "language": "python",
   "name": "python3"
  },
  "language_info": {
   "codemirror_mode": {
    "name": "ipython",
    "version": 3
   },
   "file_extension": ".py",
   "mimetype": "text/x-python",
   "name": "python",
   "nbconvert_exporter": "python",
   "pygments_lexer": "ipython3",
   "version": "3.10.9"
  }
 },
 "nbformat": 4,
 "nbformat_minor": 5
}
