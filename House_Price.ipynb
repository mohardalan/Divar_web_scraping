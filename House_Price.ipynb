{
 "cells": [
  {
   "cell_type": "code",
   "execution_count": 78,
   "id": "48fa9ff8",
   "metadata": {},
   "outputs": [],
   "source": [
    "import pandas as pd\n",
    "import sklearn.linear_model\n",
    "import sklearn.metrics\n",
    "import sklearn.model_selection\n",
    "import matplotlib.pyplot as plt\n",
    "import warnings\n",
    "warnings.filterwarnings('ignore')"
   ]
  },
  {
   "cell_type": "code",
   "execution_count": 79,
   "id": "84e41b98",
   "metadata": {
    "scrolled": true
   },
   "outputs": [
    {
     "data": {
      "text/html": [
       "<div>\n",
       "<style scoped>\n",
       "    .dataframe tbody tr th:only-of-type {\n",
       "        vertical-align: middle;\n",
       "    }\n",
       "\n",
       "    .dataframe tbody tr th {\n",
       "        vertical-align: top;\n",
       "    }\n",
       "\n",
       "    .dataframe thead th {\n",
       "        text-align: right;\n",
       "    }\n",
       "</style>\n",
       "<table border=\"1\" class=\"dataframe\">\n",
       "  <thead>\n",
       "    <tr style=\"text-align: right;\">\n",
       "      <th></th>\n",
       "      <th>title</th>\n",
       "      <th>date</th>\n",
       "      <th>location</th>\n",
       "      <th>area</th>\n",
       "      <th>year</th>\n",
       "      <th>rooms</th>\n",
       "      <th>total_price</th>\n",
       "      <th>unit_price</th>\n",
       "      <th>story</th>\n",
       "      <th>total_stories</th>\n",
       "      <th>elevator</th>\n",
       "      <th>parking</th>\n",
       "      <th>store</th>\n",
       "    </tr>\n",
       "  </thead>\n",
       "  <tbody>\n",
       "    <tr>\n",
       "      <th>0</th>\n",
       "      <td>فردوس غرب / 82متر آفتابگیر / 2خ تاپ لوکیشن</td>\n",
       "      <td>۱ روز پیش در تهران</td>\n",
       "      <td>سازمان برنامه</td>\n",
       "      <td>۸۲</td>\n",
       "      <td>۱۳۸۴</td>\n",
       "      <td>۲</td>\n",
       "      <td>۶۳۰۰۰۰۰۰۰۰</td>\n",
       "      <td>۷۶۸۲۹۰۰۰</td>\n",
       "      <td>۲</td>\n",
       "      <td>5</td>\n",
       "      <td>آسانسور</td>\n",
       "      <td>پارکینگ</td>\n",
       "      <td>انباری</td>\n",
       "    </tr>\n",
       "    <tr>\n",
       "      <th>1</th>\n",
       "      <td>77متردوخوا/فول امکانات/سالن پرده خور/سازمان بر...</td>\n",
       "      <td>۱ روز پیش در تهران</td>\n",
       "      <td>سازمان برنامه</td>\n",
       "      <td>۷۷</td>\n",
       "      <td>۱۳۸۸</td>\n",
       "      <td>۲</td>\n",
       "      <td>۷۳۵۰۰۰۰۰۰۰</td>\n",
       "      <td>۹۵۴۵۴۰۰۰</td>\n",
       "      <td>۳</td>\n",
       "      <td>5</td>\n",
       "      <td>آسانسور</td>\n",
       "      <td>پارکینگ</td>\n",
       "      <td>انباری</td>\n",
       "    </tr>\n",
       "    <tr>\n",
       "      <th>2</th>\n",
       "      <td>۶۰متر۲خواب با پارکینگ (بلوار شقایق)</td>\n",
       "      <td>۱ روز پیش در تهران</td>\n",
       "      <td>سازمان برنامه</td>\n",
       "      <td>۶۰</td>\n",
       "      <td>۱۳۸۴</td>\n",
       "      <td>۲</td>\n",
       "      <td>۵۲۵۰۰۰۰۰۰۰</td>\n",
       "      <td>۸۷۵۰۰۰۰۰</td>\n",
       "      <td>۱</td>\n",
       "      <td>4</td>\n",
       "      <td>آسانسور ندارد</td>\n",
       "      <td>پارکینگ</td>\n",
       "      <td>انباری</td>\n",
       "    </tr>\n",
       "    <tr>\n",
       "      <th>3</th>\n",
       "      <td>۵۷متر/فول امکانات/۷ متر پاسیو(سازمان برنامه)</td>\n",
       "      <td>۱ روز پیش در تهران</td>\n",
       "      <td>سازمان برنامه</td>\n",
       "      <td>۵۷</td>\n",
       "      <td>۱۳۸۷</td>\n",
       "      <td>۱</td>\n",
       "      <td>۴۹۵۰۰۰۰۰۰۰</td>\n",
       "      <td>۸۶۸۴۲۰۰۰</td>\n",
       "      <td>۱</td>\n",
       "      <td>۱</td>\n",
       "      <td>آسانسور</td>\n",
       "      <td>پارکینگ</td>\n",
       "      <td>انباری</td>\n",
       "    </tr>\n",
       "    <tr>\n",
       "      <th>4</th>\n",
       "      <td>۸۵متر/۲خواب/سازمان برنامه مرکزی</td>\n",
       "      <td>۱ روز پیش در تهران</td>\n",
       "      <td>سازمان برنامه</td>\n",
       "      <td>۸۵</td>\n",
       "      <td>۱۳۹۷</td>\n",
       "      <td>۲</td>\n",
       "      <td>۹۱۰۰۰۰۰۰۰۰</td>\n",
       "      <td>۱۰۷۰۵۸۰۰۰</td>\n",
       "      <td>۲</td>\n",
       "      <td>۲</td>\n",
       "      <td>آسانسور</td>\n",
       "      <td>پارکینگ</td>\n",
       "      <td>انباری</td>\n",
       "    </tr>\n",
       "  </tbody>\n",
       "</table>\n",
       "</div>"
      ],
      "text/plain": [
       "                                               title                date  \\\n",
       "0         فردوس غرب / 82متر آفتابگیر / 2خ تاپ لوکیشن  ۱ روز پیش در تهران   \n",
       "1  77متردوخوا/فول امکانات/سالن پرده خور/سازمان بر...  ۱ روز پیش در تهران   \n",
       "2                ۶۰متر۲خواب با پارکینگ (بلوار شقایق)  ۱ روز پیش در تهران   \n",
       "3       ۵۷متر/فول امکانات/۷ متر پاسیو(سازمان برنامه)  ۱ روز پیش در تهران   \n",
       "4                    ۸۵متر/۲خواب/سازمان برنامه مرکزی  ۱ روز پیش در تهران   \n",
       "\n",
       "        location area  year rooms total_price unit_price story total_stories  \\\n",
       "0  سازمان برنامه   ۸۲  ۱۳۸۴     ۲  ۶۳۰۰۰۰۰۰۰۰   ۷۶۸۲۹۰۰۰     ۲             5   \n",
       "1  سازمان برنامه   ۷۷  ۱۳۸۸     ۲  ۷۳۵۰۰۰۰۰۰۰   ۹۵۴۵۴۰۰۰     ۳             5   \n",
       "2  سازمان برنامه   ۶۰  ۱۳۸۴     ۲  ۵۲۵۰۰۰۰۰۰۰   ۸۷۵۰۰۰۰۰     ۱             4   \n",
       "3  سازمان برنامه   ۵۷  ۱۳۸۷     ۱  ۴۹۵۰۰۰۰۰۰۰   ۸۶۸۴۲۰۰۰     ۱             ۱   \n",
       "4  سازمان برنامه   ۸۵  ۱۳۹۷     ۲  ۹۱۰۰۰۰۰۰۰۰  ۱۰۷۰۵۸۰۰۰     ۲             ۲   \n",
       "\n",
       "        elevator  parking   store  \n",
       "0        آسانسور  پارکینگ  انباری  \n",
       "1        آسانسور  پارکینگ  انباری  \n",
       "2  آسانسور ندارد  پارکینگ  انباری  \n",
       "3        آسانسور  پارکینگ  انباری  \n",
       "4        آسانسور  پارکینگ  انباری  "
      ]
     },
     "execution_count": 79,
     "metadata": {},
     "output_type": "execute_result"
    }
   ],
   "source": [
    "# importing data\n",
    "df= pd.read_csv(\"dataframe_1.csv\", index_col= 0)\n",
    "df.head()"
   ]
  },
  {
   "cell_type": "code",
   "execution_count": 80,
   "id": "ff81a87b",
   "metadata": {
    "scrolled": true
   },
   "outputs": [
    {
     "name": "stdout",
     "output_type": "stream",
     "text": [
      "<class 'pandas.core.frame.DataFrame'>\n",
      "Int64Index: 455 entries, 0 to 454\n",
      "Data columns (total 13 columns):\n",
      " #   Column         Non-Null Count  Dtype \n",
      "---  ------         --------------  ----- \n",
      " 0   title          455 non-null    object\n",
      " 1   date           455 non-null    object\n",
      " 2   location       455 non-null    object\n",
      " 3   area           455 non-null    object\n",
      " 4   year           455 non-null    object\n",
      " 5   rooms          455 non-null    object\n",
      " 6   total_price    455 non-null    object\n",
      " 7   unit_price     455 non-null    object\n",
      " 8   story          455 non-null    object\n",
      " 9   total_stories  455 non-null    object\n",
      " 10  elevator       455 non-null    object\n",
      " 11  parking        455 non-null    object\n",
      " 12  store          455 non-null    object\n",
      "dtypes: object(13)\n",
      "memory usage: 49.8+ KB\n"
     ]
    }
   ],
   "source": [
    "# Checking imported data\n",
    "df.info()"
   ]
  },
  {
   "cell_type": "code",
   "execution_count": 82,
   "id": "0f9ef186",
   "metadata": {},
   "outputs": [],
   "source": [
    "# Cleaning data\n",
    "df.drop(columns= ['title', 'date', 'location','unit_price', 'total_stories'], axis= 1, inplace= True)"
   ]
  },
  {
   "cell_type": "code",
   "execution_count": 83,
   "id": "4cc44313",
   "metadata": {
    "scrolled": true
   },
   "outputs": [
    {
     "data": {
      "text/html": [
       "<div>\n",
       "<style scoped>\n",
       "    .dataframe tbody tr th:only-of-type {\n",
       "        vertical-align: middle;\n",
       "    }\n",
       "\n",
       "    .dataframe tbody tr th {\n",
       "        vertical-align: top;\n",
       "    }\n",
       "\n",
       "    .dataframe thead th {\n",
       "        text-align: right;\n",
       "    }\n",
       "</style>\n",
       "<table border=\"1\" class=\"dataframe\">\n",
       "  <thead>\n",
       "    <tr style=\"text-align: right;\">\n",
       "      <th></th>\n",
       "      <th>area</th>\n",
       "      <th>year</th>\n",
       "      <th>rooms</th>\n",
       "      <th>total_price</th>\n",
       "      <th>story</th>\n",
       "      <th>elevator</th>\n",
       "      <th>parking</th>\n",
       "      <th>store</th>\n",
       "    </tr>\n",
       "  </thead>\n",
       "  <tbody>\n",
       "    <tr>\n",
       "      <th>0</th>\n",
       "      <td>۸۲</td>\n",
       "      <td>۱۳۸۴</td>\n",
       "      <td>۲</td>\n",
       "      <td>۶۳۰۰۰۰۰۰۰۰</td>\n",
       "      <td>۲</td>\n",
       "      <td>آسانسور</td>\n",
       "      <td>پارکینگ</td>\n",
       "      <td>انباری</td>\n",
       "    </tr>\n",
       "    <tr>\n",
       "      <th>1</th>\n",
       "      <td>۷۷</td>\n",
       "      <td>۱۳۸۸</td>\n",
       "      <td>۲</td>\n",
       "      <td>۷۳۵۰۰۰۰۰۰۰</td>\n",
       "      <td>۳</td>\n",
       "      <td>آسانسور</td>\n",
       "      <td>پارکینگ</td>\n",
       "      <td>انباری</td>\n",
       "    </tr>\n",
       "    <tr>\n",
       "      <th>2</th>\n",
       "      <td>۶۰</td>\n",
       "      <td>۱۳۸۴</td>\n",
       "      <td>۲</td>\n",
       "      <td>۵۲۵۰۰۰۰۰۰۰</td>\n",
       "      <td>۱</td>\n",
       "      <td>آسانسور ندارد</td>\n",
       "      <td>پارکینگ</td>\n",
       "      <td>انباری</td>\n",
       "    </tr>\n",
       "    <tr>\n",
       "      <th>3</th>\n",
       "      <td>۵۷</td>\n",
       "      <td>۱۳۸۷</td>\n",
       "      <td>۱</td>\n",
       "      <td>۴۹۵۰۰۰۰۰۰۰</td>\n",
       "      <td>۱</td>\n",
       "      <td>آسانسور</td>\n",
       "      <td>پارکینگ</td>\n",
       "      <td>انباری</td>\n",
       "    </tr>\n",
       "    <tr>\n",
       "      <th>4</th>\n",
       "      <td>۸۵</td>\n",
       "      <td>۱۳۹۷</td>\n",
       "      <td>۲</td>\n",
       "      <td>۹۱۰۰۰۰۰۰۰۰</td>\n",
       "      <td>۲</td>\n",
       "      <td>آسانسور</td>\n",
       "      <td>پارکینگ</td>\n",
       "      <td>انباری</td>\n",
       "    </tr>\n",
       "  </tbody>\n",
       "</table>\n",
       "</div>"
      ],
      "text/plain": [
       "  area  year rooms total_price story       elevator  parking   store\n",
       "0   ۸۲  ۱۳۸۴     ۲  ۶۳۰۰۰۰۰۰۰۰     ۲        آسانسور  پارکینگ  انباری\n",
       "1   ۷۷  ۱۳۸۸     ۲  ۷۳۵۰۰۰۰۰۰۰     ۳        آسانسور  پارکینگ  انباری\n",
       "2   ۶۰  ۱۳۸۴     ۲  ۵۲۵۰۰۰۰۰۰۰     ۱  آسانسور ندارد  پارکینگ  انباری\n",
       "3   ۵۷  ۱۳۸۷     ۱  ۴۹۵۰۰۰۰۰۰۰     ۱        آسانسور  پارکینگ  انباری\n",
       "4   ۸۵  ۱۳۹۷     ۲  ۹۱۰۰۰۰۰۰۰۰     ۲        آسانسور  پارکینگ  انباری"
      ]
     },
     "execution_count": 83,
     "metadata": {},
     "output_type": "execute_result"
    }
   ],
   "source": [
    "df.head()"
   ]
  },
  {
   "cell_type": "code",
   "execution_count": 84,
   "id": "278f9f0f",
   "metadata": {},
   "outputs": [],
   "source": [
    "def make_int (x):\n",
    "    return int(x)\n",
    "\n",
    "df['area']= df['area'].apply(func= make_int)\n",
    "df['year']= df['year'].apply(func= make_int)\n",
    "df['rooms']= df['rooms'].apply(func= make_int)\n",
    "df['total_price']= df['total_price'].apply(func= make_int)\n"
   ]
  },
  {
   "cell_type": "code",
   "execution_count": 85,
   "id": "5a009e22",
   "metadata": {},
   "outputs": [],
   "source": [
    "def correct_str (x):\n",
    "    return x.split(\" \")[0]\n",
    "\n",
    "story0= df['story'].apply(func= correct_str)\n",
    "story0.replace (to_replace= \"همکف\", value= \"0\", inplace= True)\n",
    "\n",
    "df['story']= story0.apply(func= make_int)"
   ]
  },
  {
   "cell_type": "code",
   "execution_count": 86,
   "id": "de03a881",
   "metadata": {
    "scrolled": false
   },
   "outputs": [],
   "source": [
    "df= pd.get_dummies(data= df, columns= ['elevator', 'parking', 'store'])"
   ]
  },
  {
   "cell_type": "code",
   "execution_count": 87,
   "id": "c6537314",
   "metadata": {},
   "outputs": [],
   "source": [
    "df.drop(columns= ['elevator_آسانسور ندارد', 'parking_پارکینگ ندارد', 'store_انباری ندارد'], axis= 1, inplace= True)"
   ]
  },
  {
   "cell_type": "code",
   "execution_count": 88,
   "id": "ad2f30f2",
   "metadata": {},
   "outputs": [],
   "source": [
    "df.rename(mapper={'elevator_آسانسور':'elevator', 'parking_پارکینگ':'parking', 'store_انباری':'store'},axis= 1, inplace= True )"
   ]
  },
  {
   "cell_type": "code",
   "execution_count": 89,
   "id": "6c59a530",
   "metadata": {},
   "outputs": [],
   "source": [
    "def millions (x):\n",
    "    return x/1000000\n",
    "df['total_price']= df['total_price'].apply(func= millions)"
   ]
  },
  {
   "cell_type": "code",
   "execution_count": 90,
   "id": "63f6078f",
   "metadata": {
    "scrolled": true
   },
   "outputs": [
    {
     "data": {
      "text/html": [
       "<div>\n",
       "<style scoped>\n",
       "    .dataframe tbody tr th:only-of-type {\n",
       "        vertical-align: middle;\n",
       "    }\n",
       "\n",
       "    .dataframe tbody tr th {\n",
       "        vertical-align: top;\n",
       "    }\n",
       "\n",
       "    .dataframe thead th {\n",
       "        text-align: right;\n",
       "    }\n",
       "</style>\n",
       "<table border=\"1\" class=\"dataframe\">\n",
       "  <thead>\n",
       "    <tr style=\"text-align: right;\">\n",
       "      <th></th>\n",
       "      <th>area</th>\n",
       "      <th>year</th>\n",
       "      <th>rooms</th>\n",
       "      <th>total_price</th>\n",
       "      <th>story</th>\n",
       "      <th>elevator</th>\n",
       "      <th>parking</th>\n",
       "      <th>store</th>\n",
       "    </tr>\n",
       "  </thead>\n",
       "  <tbody>\n",
       "    <tr>\n",
       "      <th>0</th>\n",
       "      <td>82</td>\n",
       "      <td>1384</td>\n",
       "      <td>2</td>\n",
       "      <td>6300.0</td>\n",
       "      <td>2</td>\n",
       "      <td>1</td>\n",
       "      <td>1</td>\n",
       "      <td>1</td>\n",
       "    </tr>\n",
       "    <tr>\n",
       "      <th>1</th>\n",
       "      <td>77</td>\n",
       "      <td>1388</td>\n",
       "      <td>2</td>\n",
       "      <td>7350.0</td>\n",
       "      <td>3</td>\n",
       "      <td>1</td>\n",
       "      <td>1</td>\n",
       "      <td>1</td>\n",
       "    </tr>\n",
       "    <tr>\n",
       "      <th>2</th>\n",
       "      <td>60</td>\n",
       "      <td>1384</td>\n",
       "      <td>2</td>\n",
       "      <td>5250.0</td>\n",
       "      <td>1</td>\n",
       "      <td>0</td>\n",
       "      <td>1</td>\n",
       "      <td>1</td>\n",
       "    </tr>\n",
       "    <tr>\n",
       "      <th>3</th>\n",
       "      <td>57</td>\n",
       "      <td>1387</td>\n",
       "      <td>1</td>\n",
       "      <td>4950.0</td>\n",
       "      <td>1</td>\n",
       "      <td>1</td>\n",
       "      <td>1</td>\n",
       "      <td>1</td>\n",
       "    </tr>\n",
       "    <tr>\n",
       "      <th>4</th>\n",
       "      <td>85</td>\n",
       "      <td>1397</td>\n",
       "      <td>2</td>\n",
       "      <td>9100.0</td>\n",
       "      <td>2</td>\n",
       "      <td>1</td>\n",
       "      <td>1</td>\n",
       "      <td>1</td>\n",
       "    </tr>\n",
       "  </tbody>\n",
       "</table>\n",
       "</div>"
      ],
      "text/plain": [
       "   area  year  rooms  total_price  story  elevator  parking  store\n",
       "0    82  1384      2       6300.0      2         1        1      1\n",
       "1    77  1388      2       7350.0      3         1        1      1\n",
       "2    60  1384      2       5250.0      1         0        1      1\n",
       "3    57  1387      1       4950.0      1         1        1      1\n",
       "4    85  1397      2       9100.0      2         1        1      1"
      ]
     },
     "execution_count": 90,
     "metadata": {},
     "output_type": "execute_result"
    }
   ],
   "source": [
    "df.head()"
   ]
  },
  {
   "cell_type": "code",
   "execution_count": 92,
   "id": "4f7aa8e1",
   "metadata": {},
   "outputs": [],
   "source": [
    "# defining variables \n",
    "X= df[[\"year\", \"area\", \"rooms\", \"story\", \"parking\", \"store\", \"elevator\"]] \n",
    "y= df[\"total_price\"]\n",
    "\n",
    "# defining train and test sets\n",
    "X_train, X_test, y_train, y_test= sklearn.model_selection.train_test_split(X, y, test_size= 0.2)"
   ]
  },
  {
   "cell_type": "code",
   "execution_count": 93,
   "id": "9e969201",
   "metadata": {},
   "outputs": [
    {
     "name": "stdout",
     "output_type": "stream",
     "text": [
      "0.9777819134186116\n"
     ]
    }
   ],
   "source": [
    "# creating a linear model \n",
    "model= sklearn.linear_model.LinearRegression()\n",
    "\n",
    "# fitting model \n",
    "model.fit(X_train, y_train)\n",
    "\n",
    "# testing rtrained model \n",
    "y_pred_test= model.predict(X_test)\n",
    "\n",
    "# \n",
    "print(sklearn.metrics.r2_score(y_test, y_pred_test))\n"
   ]
  },
  {
   "cell_type": "code",
   "execution_count": null,
   "id": "806cd83c",
   "metadata": {},
   "outputs": [],
   "source": [
    "# a sample case\n",
    "Case_1= [1386, 86, 2, 5, 1, 1, 1]\n",
    "print(model.predict([Case_1]))"
   ]
  },
  {
   "cell_type": "code",
   "execution_count": 95,
   "id": "25890cae",
   "metadata": {},
   "outputs": [
    {
     "data": {
      "image/png": "[encoded data removed]",
      "text/plain": [
       "<Figure size 640x480 with 1 Axes>"
      ]
     },
     "metadata": {},
     "output_type": "display_data"
    }
   ],
   "source": [
    "# \n",
    "plt.scatter(X[\"year\"], y)\n",
    "plt.show()"
   ]
  },
  {
   "cell_type": "code",
   "execution_count": null,
   "id": "60d79154",
   "metadata": {},
   "outputs": [],
   "source": []
  }
 ],
 "metadata": {
  "kernelspec": {
   "display_name": "Python 3 (ipykernel)",
   "language": "python",
   "name": "python3"
  },
  "language_info": {
   "codemirror_mode": {
    "name": "ipython",
    "version": 3
   },
   "file_extension": ".py",
   "mimetype": "text/x-python",
   "name": "python",
   "nbconvert_exporter": "python",
   "pygments_lexer": "ipython3",
   "version": "3.10.9"
  }
 },
 "nbformat": 4,
 "nbformat_minor": 5
}
